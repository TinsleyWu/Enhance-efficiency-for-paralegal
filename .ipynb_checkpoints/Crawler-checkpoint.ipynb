{
 "cells": [
  {
   "cell_type": "code",
   "execution_count": 1,
   "metadata": {},
   "outputs": [],
   "source": [
    "from selenium import webdriver\n",
    "from selenium.webdriver.common.by import By\n",
    "import time\n",
    "import pymysql\n",
    "import pandas as pd"
   ]
  },
  {
   "cell_type": "code",
   "execution_count": 2,
   "metadata": {},
   "outputs": [],
   "source": [
    "driver = webdriver.Chrome()\n",
    "driver.set_window_size(1300, 1080)\n",
    "driver.get('https://judgment.judicial.gov.tw/FJUD/default.aspx')\n",
    "driver.find_elements(By.XPATH, '//input[@id=\"txtKW\"]')[0].send_keys('強盜殺人 強制性交')\n",
    "time.sleep(2)\n",
    "driver.find_elements(By.XPATH, '//input[@id=\"btnSimpleQry\"]')[0].click()\n",
    "res_df = pd.DataFrame({})\n",
    "driver.switch_to.default_content() # change to main page\n",
    "driver.switch_to.frame('iframe-data')\n",
    "\n",
    "for i in range(int(driver.find_elements(By.XPATH, \n",
    "                                        '//div[@id=\"plPager\"]')[0].text.split('/ ')[1].split(' ')[0])):\n",
    "    html = driver.page_source\n",
    "    df = pd.read_html(html)\n",
    "    df = df[0]\n",
    "    list_summary = [] \n",
    "    for j in range(len(df['裁判字號 （內容大小）']) // 2):\n",
    "        list_summary.append(df['裁判字號 （內容大小）'][2*j + 1])\n",
    "        df = df.drop(2*j + 1, axis = 0)\n",
    "    df['摘要'] = list_summary\n",
    "    df = df.drop('序號', axis = 1)\n",
    "    res_df = pd.concat([res_df, df])\n",
    "    if (int(driver.find_elements(By.XPATH, \n",
    "                                 '//div[@id=\"plPager\"]')[0].text.split('/ ')[1].split(' ')[0]) -1) != i:\n",
    "        driver.find_elements(By.XPATH, '//a[@id=\"hlNext\"]')[0].click()\n",
    "    time.sleep(0.2)\n",
    "\n",
    "res_df = res_df.reset_index(drop=True)"
   ]
  },
  {
   "cell_type": "code",
   "execution_count": 18,
   "metadata": {},
   "outputs": [],
   "source": [
    "# 資料庫設定\n",
    "db_settings = {\n",
    "    \"host\": \"127.0.0.1\",\n",
    "    \"port\": 3306,\n",
    "    \"user\": \"root\",\n",
    "    \"password\": \"\",\n",
    "    \"db\": \"Crawler_Data\",\n",
    "    \"charset\": \"utf8\"\n",
    "}\n",
    "try:\n",
    "    # 建立Connection物件\n",
    "    conn = pymysql.connect(**db_settings)\n",
    "    # 建立Cursor物件\n",
    "    with conn.cursor() as cursor:\n",
    "    #資料表相關操作\n",
    "        # 新增資料SQL語法\n",
    "        command = \"INSERT INTO law(det_name, det_date, reason, summary)VALUES(%s, %s, %s, %s)\"\n",
    "        for i in range(res_df.shape[0]):\n",
    "            cursor.execute(\n",
    "                command, (res_df['裁判字號 （內容大小）'][i], res_df['裁判日期'][i], res_df['裁判案由'][i],\n",
    "                          res_df['摘要'][i]))\n",
    "        # 儲存變更\n",
    "        conn.commit()\n",
    "except Exception as ex:\n",
    "    print(ex)"
   ]
  },
  {
   "cell_type": "code",
   "execution_count": null,
   "metadata": {},
   "outputs": [],
   "source": []
  }
 ],
 "metadata": {
  "kernelspec": {
   "display_name": "Python 3 (ipykernel)",
   "language": "python",
   "name": "python3"
  },
  "language_info": {
   "codemirror_mode": {
    "name": "ipython",
    "version": 3
   },
   "file_extension": ".py",
   "mimetype": "text/x-python",
   "name": "python",
   "nbconvert_exporter": "python",
   "pygments_lexer": "ipython3",
   "version": "3.7.15"
  }
 },
 "nbformat": 4,
 "nbformat_minor": 2
}
